{
 "cells": [
  {
   "cell_type": "markdown",
   "id": "9dcd02b0",
   "metadata": {},
   "source": [
    "# Python interview:"
   ]
  },
  {
   "cell_type": "markdown",
   "id": "caccd171",
   "metadata": {},
   "source": [
    "### What is Decorator?"
   ]
  },
  {
   "cell_type": "code",
   "execution_count": null,
   "id": "4cdf02ee",
   "metadata": {},
   "outputs": [],
   "source": [
    "Ans:Python has an interesting features called Decorators which add functionality\n",
    "    to an existing Code.\n",
    "    \n",
    "    OR\n",
    "    \n",
    "    A decorator is a function that takes another function and extends the behavior\n",
    "    of the later function without explicitly modifying it.\n"
   ]
  },
  {
   "cell_type": "code",
   "execution_count": 1,
   "id": "03c6097b",
   "metadata": {},
   "outputs": [
    {
     "name": "stdout",
     "output_type": "stream",
     "text": [
      "Python Programming\n"
     ]
    }
   ],
   "source": [
    "def display():\n",
    "    return \"Python Programming\"\n",
    "print(display())"
   ]
  },
  {
   "cell_type": "code",
   "execution_count": 9,
   "id": "7ae2e372",
   "metadata": {},
   "outputs": [
    {
     "name": "stdout",
     "output_type": "stream",
     "text": [
      "PYTHON PROGRAMMING\n"
     ]
    }
   ],
   "source": [
    "def upper(func):\n",
    "    def wrapper():\n",
    "        function = func()\n",
    "        return function.upper()\n",
    "    return wrapper\n",
    "\n",
    "def display():\n",
    "    return \"Python Programming\"\n",
    "display=upper(display)\n",
    "print(display())\n"
   ]
  },
  {
   "cell_type": "code",
   "execution_count": 11,
   "id": "3845a0f4",
   "metadata": {},
   "outputs": [
    {
     "name": "stdout",
     "output_type": "stream",
     "text": [
      "PYTHON PROGRAMMING\n"
     ]
    }
   ],
   "source": [
    "def upper(func):\n",
    "    def wrapper():\n",
    "        function = func()\n",
    "        return function.upper()\n",
    "    return wrapper\n",
    "\n",
    "@upper\n",
    "def display():\n",
    "    return \"Python Programming\"\n",
    "print(display())"
   ]
  },
  {
   "cell_type": "code",
   "execution_count": 14,
   "id": "509cae00",
   "metadata": {},
   "outputs": [
    {
     "name": "stdout",
     "output_type": "stream",
     "text": [
      "PYTHON PROGRAMMING\n",
      "BYE\n"
     ]
    }
   ],
   "source": [
    "def upper(func):\n",
    "    def wrapper():\n",
    "        function = func()\n",
    "        return function.upper()\n",
    "    return wrapper\n",
    "\n",
    "@upper\n",
    "def display():\n",
    "    return \"Python Programming\"\n",
    "@upper\n",
    "def ending():\n",
    "    return 'Bye'\n",
    "print(display())\n",
    "print(ending())"
   ]
  },
  {
   "cell_type": "markdown",
   "id": "27093c90",
   "metadata": {},
   "source": [
    "### Rules for the Decorators:\n",
    "    "
   ]
  },
  {
   "cell_type": "code",
   "execution_count": null,
   "id": "2f64f42b",
   "metadata": {},
   "outputs": [],
   "source": [
    "1.Decorators must be prefixed with @\n",
    "2.Decorator function must be placed above the \n",
    "  definition of the functions to be decorated.\n",
    "3.Without nested function decorators can't be created.    "
   ]
  },
  {
   "cell_type": "code",
   "execution_count": 17,
   "id": "c221f414",
   "metadata": {},
   "outputs": [
    {
     "name": "stdout",
     "output_type": "stream",
     "text": [
      "welcome\n",
      "total= 12\n",
      "byeee\n",
      "welcome\n",
      "substraction= 5\n",
      "byeee\n"
     ]
    }
   ],
   "source": [
    "def decorator(func, *args):\n",
    "    def wrapper(*args):\n",
    "        print(\"welcome\")\n",
    "        func(*args)\n",
    "        print(\"byeee\")\n",
    "        \n",
    "    return wrapper  \n",
    "\n",
    "@decorator\n",
    "def add(x,y):\n",
    "    print(\"total=\", x+y)\n",
    "@decorator    \n",
    "def sub(x,y):\n",
    "    print(\"substraction=\", x-y)\n",
    "    \n",
    "add(5,7)\n",
    "sub(10,5)\n",
    "    "
   ]
  },
  {
   "cell_type": "code",
   "execution_count": null,
   "id": "a4790dae",
   "metadata": {},
   "outputs": [],
   "source": []
  },
  {
   "cell_type": "markdown",
   "id": "a6b413d7",
   "metadata": {},
   "source": [
    "# Map():"
   ]
  },
  {
   "cell_type": "code",
   "execution_count": null,
   "id": "30727f1c",
   "metadata": {},
   "outputs": [],
   "source": [
    "Ans: This functions return the result after applying a function\n",
    "to each item of given sequence-tuple,list.\n",
    "\n",
    "Syntax:  map(fun,seq)"
   ]
  },
  {
   "cell_type": "code",
   "execution_count": 19,
   "id": "c8103c6d",
   "metadata": {},
   "outputs": [
    {
     "data": {
      "text/plain": [
       "120"
      ]
     },
     "execution_count": 19,
     "metadata": {},
     "output_type": "execute_result"
    }
   ],
   "source": [
    "def fact(n):\n",
    "    f = 1\n",
    "    for i in range(1,n+1):\n",
    "        f = f * i\n",
    "    return f  \n",
    "\n",
    "fact(5)"
   ]
  },
  {
   "cell_type": "code",
   "execution_count": 21,
   "id": "230ec70c",
   "metadata": {},
   "outputs": [
    {
     "name": "stdout",
     "output_type": "stream",
     "text": [
      "[2, 6, 24, 120, 720, 5040, 40320, 362880]\n"
     ]
    }
   ],
   "source": [
    "Li = [2,3,4,5,6,7,8,9]\n",
    "res = map(fact,Li)\n",
    "print(list(res))"
   ]
  },
  {
   "cell_type": "markdown",
   "id": "7d7765db",
   "metadata": {},
   "source": [
    "## Reduce():"
   ]
  },
  {
   "cell_type": "code",
   "execution_count": null,
   "id": "8490f468",
   "metadata": {},
   "outputs": [],
   "source": [
    "Def: Reduce function is used to apply a function to all the element of a sequence\n",
    "    import functools\n",
    "    \n",
    "    Syntax: functools.reduce(func,seq)"
   ]
  },
  {
   "cell_type": "code",
   "execution_count": 26,
   "id": "d2966068",
   "metadata": {},
   "outputs": [
    {
     "name": "stdout",
     "output_type": "stream",
     "text": [
      "15\n"
     ]
    }
   ],
   "source": [
    "import functools\n",
    "\n",
    "def fun(a,b):\n",
    "    return a+b\n",
    "li = [1,2,3,4,5]\n",
    "\n",
    "res = functools.reduce(fun,li)\n",
    "print(res)"
   ]
  },
  {
   "cell_type": "markdown",
   "id": "8687650b",
   "metadata": {},
   "source": [
    "## Filter():"
   ]
  },
  {
   "cell_type": "code",
   "execution_count": null,
   "id": "fdc296da",
   "metadata": {},
   "outputs": [],
   "source": [
    "Def: This method filters a sequence by a function.\n",
    "    \n",
    "    Syntax: filter(func,seq)"
   ]
  },
  {
   "cell_type": "code",
   "execution_count": 29,
   "id": "975d1b17",
   "metadata": {},
   "outputs": [
    {
     "name": "stdout",
     "output_type": "stream",
     "text": [
      "[23, 89]\n"
     ]
    }
   ],
   "source": [
    "def prime(n):\n",
    "    for i in range(2,n//2+1):\n",
    "        if n%i==0:\n",
    "            return False\n",
    "    return True\n",
    "    \n",
    "li = [12,23,34,45,56,78,89,123]\n",
    "values = filter(prime,li)\n",
    "print(list(values))"
   ]
  },
  {
   "cell_type": "markdown",
   "id": "6e4e8645",
   "metadata": {},
   "source": [
    "## Anonymous Function(Lambda Function):"
   ]
  },
  {
   "cell_type": "code",
   "execution_count": null,
   "id": "2ffb0370",
   "metadata": {},
   "outputs": [],
   "source": [
    "Def: Anonymous is a function without any name.\n",
    "    We can make it using lambda keyword.\n",
    "    \n",
    "    Sytax: lambda argument: operation"
   ]
  },
  {
   "cell_type": "code",
   "execution_count": 31,
   "id": "de205209",
   "metadata": {},
   "outputs": [
    {
     "name": "stdout",
     "output_type": "stream",
     "text": [
      "10\n"
     ]
    }
   ],
   "source": [
    "res=lambda x,y : x+y\n",
    "print(res(4,6))"
   ]
  },
  {
   "cell_type": "code",
   "execution_count": 34,
   "id": "65f34f34",
   "metadata": {},
   "outputs": [
    {
     "name": "stdout",
     "output_type": "stream",
     "text": [
      "Hello\n"
     ]
    }
   ],
   "source": [
    "res=lambda : print(\"Hello\")\n",
    "res()"
   ]
  },
  {
   "cell_type": "code",
   "execution_count": 35,
   "id": "f19af8e6",
   "metadata": {},
   "outputs": [
    {
     "data": {
      "text/plain": [
       "15"
      ]
     },
     "execution_count": 35,
     "metadata": {},
     "output_type": "execute_result"
    }
   ],
   "source": [
    "import functools\n",
    "li=[1,2,3,4,5]\n",
    "functools.reduce(lambda x,y:x+y,li)"
   ]
  },
  {
   "cell_type": "markdown",
   "id": "42b27b4b",
   "metadata": {},
   "source": [
    "# List"
   ]
  },
  {
   "cell_type": "markdown",
   "id": "41533f62",
   "metadata": {},
   "source": [
    "## append():"
   ]
  },
  {
   "cell_type": "code",
   "execution_count": null,
   "id": "a20677fc",
   "metadata": {},
   "outputs": [],
   "source": [
    "Ans: the append() method adds a single item to the existing list.\n",
    "    syntax:\n",
    "        list.append(item)"
   ]
  },
  {
   "cell_type": "code",
   "execution_count": 36,
   "id": "6bc6deea",
   "metadata": {},
   "outputs": [
    {
     "name": "stdout",
     "output_type": "stream",
     "text": [
      "[1, 2, 3]\n",
      "[1, 2, 3, 4]\n"
     ]
    }
   ],
   "source": [
    "li = [1,2,3]\n",
    "print(li)\n",
    "li.append(4)\n",
    "print(li)"
   ]
  },
  {
   "cell_type": "code",
   "execution_count": 39,
   "id": "abb98a7e",
   "metadata": {},
   "outputs": [],
   "source": [
    "li.append([5,6])"
   ]
  },
  {
   "cell_type": "code",
   "execution_count": 40,
   "id": "bb02237b",
   "metadata": {},
   "outputs": [
    {
     "data": {
      "text/plain": [
       "[1, 2, 3, 4, 5, [5, 6]]"
      ]
     },
     "execution_count": 40,
     "metadata": {},
     "output_type": "execute_result"
    }
   ],
   "source": [
    "li"
   ]
  },
  {
   "cell_type": "markdown",
   "id": "410e62b0",
   "metadata": {},
   "source": [
    "## extend():"
   ]
  },
  {
   "cell_type": "code",
   "execution_count": null,
   "id": "748a0e19",
   "metadata": {},
   "outputs": [],
   "source": [
    "Def:The extend() method add the items to the list. It wont make nested list. \n",
    "    syntax:\n",
    "        list.extend(list2)"
   ]
  },
  {
   "cell_type": "code",
   "execution_count": 41,
   "id": "391fd8fc",
   "metadata": {},
   "outputs": [
    {
     "name": "stdout",
     "output_type": "stream",
     "text": [
      "[1, 2, 3]\n",
      "[1, 2, 3, 3, 4, 5]\n"
     ]
    }
   ],
   "source": [
    "li=[1,2,3]\n",
    "print(li)\n",
    "li.extend([3,4,5])\n",
    "print(li)"
   ]
  },
  {
   "cell_type": "markdown",
   "id": "af070bd7",
   "metadata": {},
   "source": [
    "## Insert():"
   ]
  },
  {
   "cell_type": "code",
   "execution_count": null,
   "id": "11592ab2",
   "metadata": {},
   "outputs": [],
   "source": [
    "Def: The insert() method inserts the element to the lsit at the given/specified index.\n",
    "    Syntax:\n",
    "        list.insert(index,item)"
   ]
  },
  {
   "cell_type": "code",
   "execution_count": 43,
   "id": "42a35fa4",
   "metadata": {},
   "outputs": [
    {
     "name": "stdout",
     "output_type": "stream",
     "text": [
      "[1, 2, 3]\n",
      "[1, 2, 100, 3]\n"
     ]
    }
   ],
   "source": [
    "li = [1,2,3]\n",
    "print(li)\n",
    "li.insert(2,100)\n",
    "print(li)"
   ]
  },
  {
   "cell_type": "markdown",
   "id": "cc9a635f",
   "metadata": {},
   "source": [
    "## Multitasking"
   ]
  },
  {
   "cell_type": "code",
   "execution_count": null,
   "id": "ade07047",
   "metadata": {},
   "outputs": [],
   "source": [
    "Def: Executing multiple task at the same time.\n",
    "    \n",
    "    Type of Multitasking\n",
    "    ---------------------\n",
    "    1. Process Based Multitasking\n",
    "    2. Thread Based Multitasking\n",
    "\n",
    "1.Process Based Multitasking: Executing multiple task at the same time where each task is a \n",
    "                               seperate independent program(process), is called process based\n",
    "                               multitasking. It is suitable for Operating System Level.\n",
    "            \n",
    "2.Thread Based Multitasking: Executing multiple task at the same time where each task is a seperate\n",
    "                             independent part of the same program(process), is called thread based\n",
    "                             multitasking and each indepenent part is called thread. It is suitable\n",
    "                             for Programmatic Level."
   ]
  },
  {
   "cell_type": "code",
   "execution_count": 56,
   "id": "f6940c99",
   "metadata": {},
   "outputs": [
    {
     "name": "stdout",
     "output_type": "stream",
     "text": [
      "Take Order from table 1\n",
      "Take Order from table 2\n",
      "Take Order from table 3\n",
      "Take Order from table 4\n",
      "Take Order from table 5\n",
      "Serve Order to table 1\n",
      "Serve Order to table 2\n",
      "Serve Order to table 3\n",
      "Serve Order to table 4\n",
      "Serve Order to table 5\n"
     ]
    }
   ],
   "source": [
    "# Two task using the two thread\n",
    "\n",
    "from threading import Thread\n",
    "class Hotel:\n",
    "    def __init__(self,t):\n",
    "        self.t=t\n",
    "        \n",
    "    def food(self):\n",
    "        for i in range(1,6):\n",
    "            print(self.t,i)\n",
    "h1 = Hotel('Take Order from table')   \n",
    "h2 = Hotel('Serve Order to table')\n",
    "t1 = Thread(target=h1.food)\n",
    "t2 = Thread(target=h2.food)\n",
    "t1.start()\n",
    "t2.start()"
   ]
  },
  {
   "cell_type": "markdown",
   "id": "862c138d",
   "metadata": {},
   "source": [
    "# Exception Handling:"
   ]
  },
  {
   "cell_type": "code",
   "execution_count": null,
   "id": "41b6b76a",
   "metadata": {},
   "outputs": [],
   "source": [
    "Try:\n",
    "    Tries to run a critical code\n",
    "Except:\n",
    "    Runs if there is an error, try fails.\n",
    "else:\n",
    "    Runs if try is successfully (No Exception)\n",
    "finally:\n",
    "    Always Runs"
   ]
  },
  {
   "cell_type": "code",
   "execution_count": 65,
   "id": "472fb302",
   "metadata": {},
   "outputs": [
    {
     "name": "stdout",
     "output_type": "stream",
     "text": [
      "Enter the value of a: 10\n",
      "Enter the value of b: 0\n",
      "Enter Variables correctly\n",
      "Always Runs\n"
     ]
    }
   ],
   "source": [
    "try:\n",
    "    a = int(input(\"Enter the value of a: \"))\n",
    "    b = int(input(\"Enter the value of b: \"))\n",
    "    c =a/b\n",
    "    \n",
    "except ZeroDivisionError:\n",
    "    print(\"Enter Variables correctly\")\n",
    "    \n",
    "else:\n",
    "    print(\"The value of c:\",c)\n",
    "finally:\n",
    "    print(\"Always Runs\")\n",
    "    "
   ]
  },
  {
   "cell_type": "markdown",
   "id": "c12408a8",
   "metadata": {},
   "source": [
    "## Dict"
   ]
  },
  {
   "cell_type": "code",
   "execution_count": null,
   "id": "ee64055b",
   "metadata": {},
   "outputs": [],
   "source": [
    "Def: It is a built-in data type that reprepresents an unordered collection of key-value pairs.\n",
    "     It is mutable, which means we can change their contents after creations.\n",
    "      We can add,modify,remove key_value pairs.   "
   ]
  },
  {
   "cell_type": "markdown",
   "id": "f080d7ae",
   "metadata": {},
   "source": [
    "### Creating/Accessing/Adding or Modyfiying"
   ]
  },
  {
   "cell_type": "code",
   "execution_count": 67,
   "id": "cb051db9",
   "metadata": {},
   "outputs": [],
   "source": [
    "my_dict = {'name':'Pradeep', 'place': 'Noida', 'age':27}"
   ]
  },
  {
   "cell_type": "code",
   "execution_count": 68,
   "id": "c90532e4",
   "metadata": {},
   "outputs": [
    {
     "data": {
      "text/plain": [
       "'Noida'"
      ]
     },
     "execution_count": 68,
     "metadata": {},
     "output_type": "execute_result"
    }
   ],
   "source": [
    "#Accessed 'Noida' with key 'place'\n",
    "my_dict['place']"
   ]
  },
  {
   "cell_type": "code",
   "execution_count": 70,
   "id": "847a14be",
   "metadata": {},
   "outputs": [],
   "source": [
    "#Adding\n",
    "my_dict['gender']='Male'"
   ]
  },
  {
   "cell_type": "code",
   "execution_count": 71,
   "id": "f8399798",
   "metadata": {},
   "outputs": [],
   "source": [
    "#Modifying\n",
    "my_dict['age']='31'"
   ]
  },
  {
   "cell_type": "code",
   "execution_count": 73,
   "id": "e011fbd9",
   "metadata": {},
   "outputs": [],
   "source": [
    "#Removing\n",
    "del my_dict['place']"
   ]
  },
  {
   "cell_type": "code",
   "execution_count": 74,
   "id": "e11da0a2",
   "metadata": {},
   "outputs": [],
   "source": [
    "#Pop() to use remove a specific key and returnits value.\n",
    "remove_value=my_dict.pop('age')"
   ]
  },
  {
   "cell_type": "markdown",
   "id": "0798bcb7",
   "metadata": {},
   "source": [
    "## what is pep 8"
   ]
  },
  {
   "cell_type": "code",
   "execution_count": null,
   "id": "29b27ccf",
   "metadata": {},
   "outputs": [],
   "source": [
    "Ans: PEP 9 stands for \"Python Enhancement Proposal\". Is provides the guideline\n",
    "    to the programmer like how to code, how to formatting our python code which \n",
    "    makes more readable and consistence.\n",
    "    Like :\n",
    "        Indentation, Maxm length, Imports, Whitespaces, Naming Convention,\n",
    "        comment & Docstrings, Blank Lines and coding recommendations."
   ]
  },
  {
   "cell_type": "code",
   "execution_count": null,
   "id": "ad27c208",
   "metadata": {},
   "outputs": [],
   "source": []
  },
  {
   "cell_type": "code",
   "execution_count": null,
   "id": "65a7668e",
   "metadata": {},
   "outputs": [],
   "source": []
  },
  {
   "cell_type": "code",
   "execution_count": null,
   "id": "70b45723",
   "metadata": {},
   "outputs": [],
   "source": []
  },
  {
   "cell_type": "code",
   "execution_count": null,
   "id": "78858daa",
   "metadata": {},
   "outputs": [],
   "source": []
  },
  {
   "cell_type": "code",
   "execution_count": null,
   "id": "aa69de6d",
   "metadata": {},
   "outputs": [],
   "source": []
  },
  {
   "cell_type": "code",
   "execution_count": null,
   "id": "6389a653",
   "metadata": {},
   "outputs": [],
   "source": []
  },
  {
   "cell_type": "code",
   "execution_count": null,
   "id": "883d5205",
   "metadata": {},
   "outputs": [],
   "source": []
  },
  {
   "cell_type": "code",
   "execution_count": null,
   "id": "abb93975",
   "metadata": {},
   "outputs": [],
   "source": []
  }
 ],
 "metadata": {
  "kernelspec": {
   "display_name": "Python 3 (ipykernel)",
   "language": "python",
   "name": "python3"
  },
  "language_info": {
   "codemirror_mode": {
    "name": "ipython",
    "version": 3
   },
   "file_extension": ".py",
   "mimetype": "text/x-python",
   "name": "python",
   "nbconvert_exporter": "python",
   "pygments_lexer": "ipython3",
   "version": "3.9.7"
  }
 },
 "nbformat": 4,
 "nbformat_minor": 5
}
