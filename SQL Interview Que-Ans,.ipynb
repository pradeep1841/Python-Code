{
 "cells": [
  {
   "cell_type": "markdown",
   "id": "8be48fd0",
   "metadata": {},
   "source": [
    "# SQL TOP interview Question ans Answer"
   ]
  },
  {
   "cell_type": "markdown",
   "id": "a47b0b3c",
   "metadata": {},
   "source": [
    "## Primary Key:"
   ]
  },
  {
   "cell_type": "code",
   "execution_count": null,
   "id": "1c84d244",
   "metadata": {},
   "outputs": [],
   "source": [
    " Ans: It is a field or a set of fields within a database table that uniquely \n",
    "    identified each row or record in the table. \n",
    "    In other words it is the combination of not null and unique keys. Means\n",
    "    in a table it ensures the table records should be unique and should not have \n",
    "    the duplicates values."
   ]
  },
  {
   "cell_type": "markdown",
   "id": "f1cffe26",
   "metadata": {},
   "source": [
    "## CTE"
   ]
  },
  {
   "cell_type": "code",
   "execution_count": null,
   "id": "1b1ffa14",
   "metadata": {},
   "outputs": [],
   "source": [
    "Ans: A common table expression (CTE) is a temprory result set that we can reference with\n",
    "    a SELECT, INSERT, UPDATE, or DELETE statement etc. It simplify the   \n",
    "    complex SQL queries, make code more readable and avoid repeating the same subquery logic\n",
    "    multiple times within query."
   ]
  },
  {
   "cell_type": "markdown",
   "id": "27332538",
   "metadata": {},
   "source": [
    "### Basic CTE example:\n",
    "    -- Create a CTE that selects employees with a salary greater than 50000"
   ]
  },
  {
   "cell_type": "code",
   "execution_count": null,
   "id": "a5758774",
   "metadata": {},
   "outputs": [],
   "source": [
    "with HighestEmployeeSalary as(\n",
    "        Select * from Employee where salary > 50000\n",
    "    )\n",
    "    -- Use the CTE in a subsequent query\n",
    "    Select * from HighestSalaryEmployee;\n",
    "    \n",
    "In this example, we define a CTE called \"HighSalaryEmployees\" that selects\n",
    "employees with a salary greater than 50000. Later, we use this CTE in the \n",
    "main query to retrieve the high-salary employees.  "
   ]
  },
  {
   "cell_type": "markdown",
   "id": "07d54d1a",
   "metadata": {},
   "source": [
    "### CTE with Aggregation:\n",
    "      --Calculate the average salary for each department"
   ]
  },
  {
   "cell_type": "code",
   "execution_count": null,
   "id": "9682949d",
   "metadata": {},
   "outputs": [],
   "source": [
    "with DepartmentAvgSalary as(\n",
    "    SELECT DepartmentID, Avg(Salary), As AvgSalary\n",
    "    From Employees\n",
    "    Group by DepartmentID\n",
    ")\n",
    "\n",
    "-- Join the CTE with another table to retrieve department names\n",
    "Select d.DepartmentName, a.AvgSalary\n",
    "from DepartmentAvgSalary a\n",
    "Join Departments d on\n",
    "a.DepartmentID = d.DepartmentID;"
   ]
  },
  {
   "cell_type": "markdown",
   "id": "07fee889",
   "metadata": {},
   "source": [
    "## Windows Functions"
   ]
  },
  {
   "cell_type": "code",
   "execution_count": null,
   "id": "f02f75e8",
   "metadata": {},
   "outputs": [],
   "source": [
    "Ans: We perform calculation on data using various aggregated functions such as Max, Min\n",
    "    and Avg. We get a single output row using these functions.\n",
    "    \n",
    "    But\n",
    "    Windows functions perform an aggregate operations for each row and return the results\n",
    "    in details\n",
    "    \n",
    "    Syntax:\n",
    "        window_function([All] expression)\n",
    "        OVER([Partition BY partition_list][ORDER BY order_list])"
   ]
  },
  {
   "cell_type": "markdown",
   "id": "62d683d5",
   "metadata": {},
   "source": [
    "### List Of Window functions:"
   ]
  },
  {
   "cell_type": "code",
   "execution_count": null,
   "id": "2b87e4d2",
   "metadata": {},
   "outputs": [],
   "source": [
    "1. Over()\n",
    "2. Partition()"
   ]
  },
  {
   "cell_type": "markdown",
   "id": "b3701cd0",
   "metadata": {},
   "source": [
    "### Ranking Window Functions"
   ]
  },
  {
   "cell_type": "code",
   "execution_count": null,
   "id": "947926a0",
   "metadata": {},
   "outputs": [],
   "source": [
    "1.Rank() and Dense Rank()\n",
    "2.Row_Number()\n",
    "3.Ntile(N)"
   ]
  },
  {
   "cell_type": "markdown",
   "id": "e63857c0",
   "metadata": {},
   "source": [
    "### Value Window Function"
   ]
  },
  {
   "cell_type": "code",
   "execution_count": null,
   "id": "16cecc0e",
   "metadata": {},
   "outputs": [],
   "source": [
    "1. LEAD and LAG\n",
    "2. First_Value(), Last_Value()"
   ]
  },
  {
   "cell_type": "code",
   "execution_count": null,
   "id": "aff1fd4b",
   "metadata": {},
   "outputs": [],
   "source": []
  },
  {
   "cell_type": "markdown",
   "id": "00b5d246",
   "metadata": {},
   "source": [
    "### Practical"
   ]
  },
  {
   "cell_type": "code",
   "execution_count": null,
   "id": "d2a25be3",
   "metadata": {},
   "outputs": [],
   "source": [
    "OVER() window function\n",
    " ----It is the replacement of group by. It creates a window with multiple rows."
   ]
  },
  {
   "cell_type": "code",
   "execution_count": null,
   "id": "ecd4b3bf",
   "metadata": {},
   "outputs": [],
   "source": [
    "Query: Find sales deptwise with emp_id, product_id deetails."
   ]
  },
  {
   "cell_type": "code",
   "execution_count": null,
   "id": "e7cb7e36",
   "metadata": {},
   "outputs": [],
   "source": [
    "Select column_name(s),\n",
    "        fun() OVER() ([<PARTITION BY Clause>]\n",
    "                      [<ORDER BY Clause]\n",
    "                      [<ROW or RANGE Clause]\n",
    "                     )\n",
    "FROM table_name  \n",
    "\n",
    "####\n",
    "fun()----Aggregate functions/Ranking functions/Analytic functions\n",
    "OVER BY()----PARTITION BY/ORDER BY/ROWS"
   ]
  },
  {
   "cell_type": "code",
   "execution_count": null,
   "id": "ce26c972",
   "metadata": {},
   "outputs": [],
   "source": [
    "select dept_name from employee;\n",
    "\n",
    "select max(salary) as max_salary from employee group by dept_name;"
   ]
  },
  {
   "cell_type": "code",
   "execution_count": null,
   "id": "33f1891b",
   "metadata": {},
   "outputs": [],
   "source": []
  },
  {
   "cell_type": "code",
   "execution_count": null,
   "id": "d5d66738",
   "metadata": {},
   "outputs": [],
   "source": []
  },
  {
   "cell_type": "code",
   "execution_count": null,
   "id": "0bfe702a",
   "metadata": {},
   "outputs": [],
   "source": []
  },
  {
   "cell_type": "code",
   "execution_count": null,
   "id": "766dedff",
   "metadata": {},
   "outputs": [],
   "source": []
  },
  {
   "cell_type": "code",
   "execution_count": null,
   "id": "bea6fbf7",
   "metadata": {},
   "outputs": [],
   "source": []
  },
  {
   "cell_type": "code",
   "execution_count": null,
   "id": "dbcac5b3",
   "metadata": {},
   "outputs": [],
   "source": []
  }
 ],
 "metadata": {
  "kernelspec": {
   "display_name": "Python 3 (ipykernel)",
   "language": "python",
   "name": "python3"
  },
  "language_info": {
   "codemirror_mode": {
    "name": "ipython",
    "version": 3
   },
   "file_extension": ".py",
   "mimetype": "text/x-python",
   "name": "python",
   "nbconvert_exporter": "python",
   "pygments_lexer": "ipython3",
   "version": "3.9.7"
  }
 },
 "nbformat": 4,
 "nbformat_minor": 5
}
